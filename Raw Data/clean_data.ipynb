{
 "metadata": {
  "language_info": {
   "codemirror_mode": {
    "name": "ipython",
    "version": 3
   },
   "file_extension": ".py",
   "mimetype": "text/x-python",
   "name": "python",
   "nbconvert_exporter": "python",
   "pygments_lexer": "ipython3",
   "version": "3.7.9-final"
  },
  "orig_nbformat": 2,
  "kernelspec": {
   "name": "Python 3.7.9 64-bit ('data-bootcamp': conda)",
   "display_name": "Python 3.7.9 64-bit ('data-bootcamp': conda)",
   "metadata": {
    "interpreter": {
     "hash": "b3a78d13c8ddcd2f71b29e209561e9aaf5c95a485786f1a0d858e1acfa0f067e"
    }
   }
  }
 },
 "nbformat": 4,
 "nbformat_minor": 2,
 "cells": [
  {
   "cell_type": "code",
   "execution_count": 39,
   "metadata": {},
   "outputs": [],
   "source": [
    "import pandas as pd\n",
    "import json\n",
    "import pymongo\n",
    "from pprint import pprint "
   ]
  },
  {
   "source": [
    "# Let's first clean the CSV"
   ],
   "cell_type": "markdown",
   "metadata": {}
  },
  {
   "cell_type": "code",
   "execution_count": 60,
   "metadata": {},
   "outputs": [
    {
     "output_type": "execute_result",
     "data": {
      "text/plain": [
       "     REF_DATE                    GEO DGUID First official language spoken  \\\n",
       "691      2016  Canada outside Quebec   NaN                         French   \n",
       "692      2016  Canada outside Quebec   NaN                        English   \n",
       "693      2016  Canada outside Quebec   NaN             English and french   \n",
       "694      2016  Canada outside Quebec   NaN     Neither english nor French   \n",
       "695      2016  Canada outside Quebec   NaN     Official language minority   \n",
       "\n",
       "    Statistics     UOM  UOM_ID SCALAR_FACTOR  SCALAR_ID       VECTOR  \\\n",
       "691     Number  Number     223        units           0  v1043024766   \n",
       "692     Number  Number     223        units           0  v1043024767   \n",
       "693     Number  Number     223        units           0  v1043024768   \n",
       "694     Number  Number     223        units           0  v1043024769   \n",
       "695     Number  Number     223        units           0  v1043024770   \n",
       "\n",
       "    COORDINATE     VALUE  STATUS  SYMBOL TERMINATED  DECIMALS  \n",
       "691     16.2.1    954810     NaN     NaN        NaN         0  \n",
       "692     16.3.1  25043375     NaN     NaN        NaN         0  \n",
       "693     16.4.1    138775     NaN     NaN        NaN         0  \n",
       "694     16.5.1    563740     NaN     NaN        NaN         0  \n",
       "695     16.6.1   1024200     NaN     NaN        NaN         0  "
      ],
      "text/html": "<div>\n<style scoped>\n    .dataframe tbody tr th:only-of-type {\n        vertical-align: middle;\n    }\n\n    .dataframe tbody tr th {\n        vertical-align: top;\n    }\n\n    .dataframe thead th {\n        text-align: right;\n    }\n</style>\n<table border=\"1\" class=\"dataframe\">\n  <thead>\n    <tr style=\"text-align: right;\">\n      <th></th>\n      <th>REF_DATE</th>\n      <th>GEO</th>\n      <th>DGUID</th>\n      <th>First official language spoken</th>\n      <th>Statistics</th>\n      <th>UOM</th>\n      <th>UOM_ID</th>\n      <th>SCALAR_FACTOR</th>\n      <th>SCALAR_ID</th>\n      <th>VECTOR</th>\n      <th>COORDINATE</th>\n      <th>VALUE</th>\n      <th>STATUS</th>\n      <th>SYMBOL</th>\n      <th>TERMINATED</th>\n      <th>DECIMALS</th>\n    </tr>\n  </thead>\n  <tbody>\n    <tr>\n      <th>691</th>\n      <td>2016</td>\n      <td>Canada outside Quebec</td>\n      <td>NaN</td>\n      <td>French</td>\n      <td>Number</td>\n      <td>Number</td>\n      <td>223</td>\n      <td>units</td>\n      <td>0</td>\n      <td>v1043024766</td>\n      <td>16.2.1</td>\n      <td>954810</td>\n      <td>NaN</td>\n      <td>NaN</td>\n      <td>NaN</td>\n      <td>0</td>\n    </tr>\n    <tr>\n      <th>692</th>\n      <td>2016</td>\n      <td>Canada outside Quebec</td>\n      <td>NaN</td>\n      <td>English</td>\n      <td>Number</td>\n      <td>Number</td>\n      <td>223</td>\n      <td>units</td>\n      <td>0</td>\n      <td>v1043024767</td>\n      <td>16.3.1</td>\n      <td>25043375</td>\n      <td>NaN</td>\n      <td>NaN</td>\n      <td>NaN</td>\n      <td>0</td>\n    </tr>\n    <tr>\n      <th>693</th>\n      <td>2016</td>\n      <td>Canada outside Quebec</td>\n      <td>NaN</td>\n      <td>English and french</td>\n      <td>Number</td>\n      <td>Number</td>\n      <td>223</td>\n      <td>units</td>\n      <td>0</td>\n      <td>v1043024768</td>\n      <td>16.4.1</td>\n      <td>138775</td>\n      <td>NaN</td>\n      <td>NaN</td>\n      <td>NaN</td>\n      <td>0</td>\n    </tr>\n    <tr>\n      <th>694</th>\n      <td>2016</td>\n      <td>Canada outside Quebec</td>\n      <td>NaN</td>\n      <td>Neither english nor French</td>\n      <td>Number</td>\n      <td>Number</td>\n      <td>223</td>\n      <td>units</td>\n      <td>0</td>\n      <td>v1043024769</td>\n      <td>16.5.1</td>\n      <td>563740</td>\n      <td>NaN</td>\n      <td>NaN</td>\n      <td>NaN</td>\n      <td>0</td>\n    </tr>\n    <tr>\n      <th>695</th>\n      <td>2016</td>\n      <td>Canada outside Quebec</td>\n      <td>NaN</td>\n      <td>Official language minority</td>\n      <td>Number</td>\n      <td>Number</td>\n      <td>223</td>\n      <td>units</td>\n      <td>0</td>\n      <td>v1043024770</td>\n      <td>16.6.1</td>\n      <td>1024200</td>\n      <td>NaN</td>\n      <td>NaN</td>\n      <td>NaN</td>\n      <td>0</td>\n    </tr>\n  </tbody>\n</table>\n</div>"
     },
     "metadata": {},
     "execution_count": 60
    }
   ],
   "source": [
    "df = pd.read_csv('15100005.csv')\n",
    "df.tail()"
   ]
  },
  {
   "cell_type": "code",
   "execution_count": 61,
   "metadata": {},
   "outputs": [
    {
     "output_type": "execute_result",
     "data": {
      "text/plain": [
       "array(['Canada', 'Newfoundland and Labrador', 'Prince Edward Island',\n",
       "       'Nova Scotia', 'New Brunswick', 'Quebec', 'Ontario', 'Manitoba',\n",
       "       'Saskatchewan ', 'Alberta', 'British Columbia', 'Yukon',\n",
       "       'Northwest Territories including Nunavut', 'Canada outside Quebec',\n",
       "       'Northwest Territories', 'Nunavut'], dtype=object)"
      ]
     },
     "metadata": {},
     "execution_count": 61
    }
   ],
   "source": [
    "#Find all of the values in the GEO column\n",
    "df['GEO'].unique()"
   ]
  },
  {
   "cell_type": "code",
   "execution_count": 62,
   "metadata": {},
   "outputs": [],
   "source": [
    "#Extract just the provinces\n",
    "provinces = set(df['GEO'].unique()) - set(['Canada', 'Northwest Territories including Nunavut', 'Canada outside Quebec'])"
   ]
  },
  {
   "cell_type": "code",
   "execution_count": 63,
   "metadata": {},
   "outputs": [
    {
     "output_type": "execute_result",
     "data": {
      "text/plain": [
       "    REF_DATE                        GEO  \\\n",
       "6       1971  Newfoundland and Labrador   \n",
       "7       1971  Newfoundland and Labrador   \n",
       "8       1971  Newfoundland and Labrador   \n",
       "9       1971  Newfoundland and Labrador   \n",
       "10      1971  Newfoundland and Labrador   \n",
       "\n",
       "           First official language spoken   VALUE  \n",
       "6   Total, first official language spoken  522104  \n",
       "7                                  French    3638  \n",
       "8                                 English  517736  \n",
       "9                      English and french     106  \n",
       "10             Neither english nor French     624  "
      ],
      "text/html": "<div>\n<style scoped>\n    .dataframe tbody tr th:only-of-type {\n        vertical-align: middle;\n    }\n\n    .dataframe tbody tr th {\n        vertical-align: top;\n    }\n\n    .dataframe thead th {\n        text-align: right;\n    }\n</style>\n<table border=\"1\" class=\"dataframe\">\n  <thead>\n    <tr style=\"text-align: right;\">\n      <th></th>\n      <th>REF_DATE</th>\n      <th>GEO</th>\n      <th>First official language spoken</th>\n      <th>VALUE</th>\n    </tr>\n  </thead>\n  <tbody>\n    <tr>\n      <th>6</th>\n      <td>1971</td>\n      <td>Newfoundland and Labrador</td>\n      <td>Total, first official language spoken</td>\n      <td>522104</td>\n    </tr>\n    <tr>\n      <th>7</th>\n      <td>1971</td>\n      <td>Newfoundland and Labrador</td>\n      <td>French</td>\n      <td>3638</td>\n    </tr>\n    <tr>\n      <th>8</th>\n      <td>1971</td>\n      <td>Newfoundland and Labrador</td>\n      <td>English</td>\n      <td>517736</td>\n    </tr>\n    <tr>\n      <th>9</th>\n      <td>1971</td>\n      <td>Newfoundland and Labrador</td>\n      <td>English and french</td>\n      <td>106</td>\n    </tr>\n    <tr>\n      <th>10</th>\n      <td>1971</td>\n      <td>Newfoundland and Labrador</td>\n      <td>Neither english nor French</td>\n      <td>624</td>\n    </tr>\n  </tbody>\n</table>\n</div>"
     },
     "metadata": {},
     "execution_count": 63
    }
   ],
   "source": [
    "# Get the data for just the provinces, also get rid of the other columns\n",
    "df = df.loc[df['GEO'].isin(provinces), ['REF_DATE', 'GEO', 'First official language spoken', 'VALUE']]\n",
    "df.head()"
   ]
  },
  {
   "cell_type": "code",
   "execution_count": 64,
   "metadata": {},
   "outputs": [
    {
     "output_type": "execute_result",
     "data": {
      "text/plain": [
       "First official language spoken  English  English and french  French  \\\n",
       "GEO              REF_DATE                                             \n",
       "Alberta          1971           1560209                2373   47301   \n",
       "                 1981           2132396                7065   53253   \n",
       "                 1991           2433560                5430   50565   \n",
       "                 1996           2580675                6220   49390   \n",
       "                 2001           2848810                6375   55645   \n",
       "                 2006           3150170                8420   58575   \n",
       "                 2011           3484240               12530   65105   \n",
       "                 2016           3880680               16605   71535   \n",
       "British Columbia 1971           2115130                3997   38769   \n",
       "                 1981           2632280                8006   36090   \n",
       "                 1991           3132795                8635   45225   \n",
       "                 1996           3532485               12040   50285   \n",
       "                 2001           3700385               14790   51970   \n",
       "                 2006           3883215               17350   53060   \n",
       "                 2011           4143245               16935   53725   \n",
       "                 2016           4373335               18000   55320   \n",
       "Manitoba         1971            904413                2146   61104   \n",
       "                 1981            948317                3253   47459   \n",
       "                 1991           1017500                2265   46665   \n",
       "                 1996           1041230                2010   45570   \n",
       "\n",
       "First official language spoken  Neither english nor French  \\\n",
       "GEO              REF_DATE                                    \n",
       "Alberta          1971                                17991   \n",
       "                 1981                                20937   \n",
       "                 1991                                29635   \n",
       "                 1996                                32910   \n",
       "                 2001                                30360   \n",
       "                 2006                                39185   \n",
       "                 2011                                48310   \n",
       "                 2016                                57830   \n",
       "British Columbia 1971                                26725   \n",
       "                 1981                                37239   \n",
       "                 1991                                60850   \n",
       "                 1996                                94945   \n",
       "                 2001                               101725   \n",
       "                 2006                               120760   \n",
       "                 2011                               142300   \n",
       "                 2016                               151760   \n",
       "Manitoba         1971                                20584   \n",
       "                 1981                                14675   \n",
       "                 1991                                12965   \n",
       "                 1996                                11490   \n",
       "\n",
       "First official language spoken  Official language minority  \\\n",
       "GEO              REF_DATE                                    \n",
       "Alberta          1971                                48488   \n",
       "                 1981                                56785   \n",
       "                 1991                                53280   \n",
       "                 1996                                52500   \n",
       "                 2001                                58833   \n",
       "                 2006                                62790   \n",
       "                 2011                                71370   \n",
       "                 2016                                79840   \n",
       "British Columbia 1971                                40768   \n",
       "                 1981                                40093   \n",
       "                 1991                                49545   \n",
       "                 1996                                56310   \n",
       "                 2001                                59365   \n",
       "                 2006                                61735   \n",
       "                 2011                                62190   \n",
       "                 2016                                64320   \n",
       "Manitoba         1971                                62177   \n",
       "                 1981                                49085   \n",
       "                 1991                                47800   \n",
       "                 1996                                46570   \n",
       "\n",
       "First official language spoken  Total, first official language spoken  \n",
       "GEO              REF_DATE                                              \n",
       "Alberta          1971                                         1627874  \n",
       "                 1981                                         2213651  \n",
       "                 1991                                         2519180  \n",
       "                 1996                                         2669195  \n",
       "                 2001                                         2941190  \n",
       "                 2006                                         3256355  \n",
       "                 2011                                         3610185  \n",
       "                 2016                                         4026650  \n",
       "British Columbia 1971                                         2184621  \n",
       "                 1981                                         2713615  \n",
       "                 1991                                         3247505  \n",
       "                 1996                                         3689755  \n",
       "                 2001                                         3868870  \n",
       "                 2006                                         4074385  \n",
       "                 2011                                         4356205  \n",
       "                 2016                                         4598415  \n",
       "Manitoba         1971                                          988247  \n",
       "                 1981                                         1013703  \n",
       "                 1991                                         1079395  \n",
       "                 1996                                         1100290  "
      ],
      "text/html": "<div>\n<style scoped>\n    .dataframe tbody tr th:only-of-type {\n        vertical-align: middle;\n    }\n\n    .dataframe tbody tr th {\n        vertical-align: top;\n    }\n\n    .dataframe thead th {\n        text-align: right;\n    }\n</style>\n<table border=\"1\" class=\"dataframe\">\n  <thead>\n    <tr style=\"text-align: right;\">\n      <th></th>\n      <th>First official language spoken</th>\n      <th>English</th>\n      <th>English and french</th>\n      <th>French</th>\n      <th>Neither english nor French</th>\n      <th>Official language minority</th>\n      <th>Total, first official language spoken</th>\n    </tr>\n    <tr>\n      <th>GEO</th>\n      <th>REF_DATE</th>\n      <th></th>\n      <th></th>\n      <th></th>\n      <th></th>\n      <th></th>\n      <th></th>\n    </tr>\n  </thead>\n  <tbody>\n    <tr>\n      <th rowspan=\"8\" valign=\"top\">Alberta</th>\n      <th>1971</th>\n      <td>1560209</td>\n      <td>2373</td>\n      <td>47301</td>\n      <td>17991</td>\n      <td>48488</td>\n      <td>1627874</td>\n    </tr>\n    <tr>\n      <th>1981</th>\n      <td>2132396</td>\n      <td>7065</td>\n      <td>53253</td>\n      <td>20937</td>\n      <td>56785</td>\n      <td>2213651</td>\n    </tr>\n    <tr>\n      <th>1991</th>\n      <td>2433560</td>\n      <td>5430</td>\n      <td>50565</td>\n      <td>29635</td>\n      <td>53280</td>\n      <td>2519180</td>\n    </tr>\n    <tr>\n      <th>1996</th>\n      <td>2580675</td>\n      <td>6220</td>\n      <td>49390</td>\n      <td>32910</td>\n      <td>52500</td>\n      <td>2669195</td>\n    </tr>\n    <tr>\n      <th>2001</th>\n      <td>2848810</td>\n      <td>6375</td>\n      <td>55645</td>\n      <td>30360</td>\n      <td>58833</td>\n      <td>2941190</td>\n    </tr>\n    <tr>\n      <th>2006</th>\n      <td>3150170</td>\n      <td>8420</td>\n      <td>58575</td>\n      <td>39185</td>\n      <td>62790</td>\n      <td>3256355</td>\n    </tr>\n    <tr>\n      <th>2011</th>\n      <td>3484240</td>\n      <td>12530</td>\n      <td>65105</td>\n      <td>48310</td>\n      <td>71370</td>\n      <td>3610185</td>\n    </tr>\n    <tr>\n      <th>2016</th>\n      <td>3880680</td>\n      <td>16605</td>\n      <td>71535</td>\n      <td>57830</td>\n      <td>79840</td>\n      <td>4026650</td>\n    </tr>\n    <tr>\n      <th rowspan=\"8\" valign=\"top\">British Columbia</th>\n      <th>1971</th>\n      <td>2115130</td>\n      <td>3997</td>\n      <td>38769</td>\n      <td>26725</td>\n      <td>40768</td>\n      <td>2184621</td>\n    </tr>\n    <tr>\n      <th>1981</th>\n      <td>2632280</td>\n      <td>8006</td>\n      <td>36090</td>\n      <td>37239</td>\n      <td>40093</td>\n      <td>2713615</td>\n    </tr>\n    <tr>\n      <th>1991</th>\n      <td>3132795</td>\n      <td>8635</td>\n      <td>45225</td>\n      <td>60850</td>\n      <td>49545</td>\n      <td>3247505</td>\n    </tr>\n    <tr>\n      <th>1996</th>\n      <td>3532485</td>\n      <td>12040</td>\n      <td>50285</td>\n      <td>94945</td>\n      <td>56310</td>\n      <td>3689755</td>\n    </tr>\n    <tr>\n      <th>2001</th>\n      <td>3700385</td>\n      <td>14790</td>\n      <td>51970</td>\n      <td>101725</td>\n      <td>59365</td>\n      <td>3868870</td>\n    </tr>\n    <tr>\n      <th>2006</th>\n      <td>3883215</td>\n      <td>17350</td>\n      <td>53060</td>\n      <td>120760</td>\n      <td>61735</td>\n      <td>4074385</td>\n    </tr>\n    <tr>\n      <th>2011</th>\n      <td>4143245</td>\n      <td>16935</td>\n      <td>53725</td>\n      <td>142300</td>\n      <td>62190</td>\n      <td>4356205</td>\n    </tr>\n    <tr>\n      <th>2016</th>\n      <td>4373335</td>\n      <td>18000</td>\n      <td>55320</td>\n      <td>151760</td>\n      <td>64320</td>\n      <td>4598415</td>\n    </tr>\n    <tr>\n      <th rowspan=\"4\" valign=\"top\">Manitoba</th>\n      <th>1971</th>\n      <td>904413</td>\n      <td>2146</td>\n      <td>61104</td>\n      <td>20584</td>\n      <td>62177</td>\n      <td>988247</td>\n    </tr>\n    <tr>\n      <th>1981</th>\n      <td>948317</td>\n      <td>3253</td>\n      <td>47459</td>\n      <td>14675</td>\n      <td>49085</td>\n      <td>1013703</td>\n    </tr>\n    <tr>\n      <th>1991</th>\n      <td>1017500</td>\n      <td>2265</td>\n      <td>46665</td>\n      <td>12965</td>\n      <td>47800</td>\n      <td>1079395</td>\n    </tr>\n    <tr>\n      <th>1996</th>\n      <td>1041230</td>\n      <td>2010</td>\n      <td>45570</td>\n      <td>11490</td>\n      <td>46570</td>\n      <td>1100290</td>\n    </tr>\n  </tbody>\n</table>\n</div>"
     },
     "metadata": {},
     "execution_count": 64
    }
   ],
   "source": [
    "# Clean up the dataset and pivot it to get unique columns\n",
    "df = df.pivot(index = ['GEO', 'REF_DATE'], columns = 'First official language spoken', values = 'VALUE')\n",
    "df.head(20) "
   ]
  },
  {
   "cell_type": "code",
   "execution_count": 65,
   "metadata": {},
   "outputs": [
    {
     "output_type": "execute_result",
     "data": {
      "text/plain": [
       "  province  date  english  english_and_french  french  neither_official  \\\n",
       "0  Alberta  1971  1560209                2373   47301             17991   \n",
       "1  Alberta  1981  2132396                7065   53253             20937   \n",
       "2  Alberta  1991  2433560                5430   50565             29635   \n",
       "3  Alberta  1996  2580675                6220   49390             32910   \n",
       "4  Alberta  2001  2848810                6375   55645             30360   \n",
       "\n",
       "   official_language_minority    total  \n",
       "0                       48488  1627874  \n",
       "1                       56785  2213651  \n",
       "2                       53280  2519180  \n",
       "3                       52500  2669195  \n",
       "4                       58833  2941190  "
      ],
      "text/html": "<div>\n<style scoped>\n    .dataframe tbody tr th:only-of-type {\n        vertical-align: middle;\n    }\n\n    .dataframe tbody tr th {\n        vertical-align: top;\n    }\n\n    .dataframe thead th {\n        text-align: right;\n    }\n</style>\n<table border=\"1\" class=\"dataframe\">\n  <thead>\n    <tr style=\"text-align: right;\">\n      <th></th>\n      <th>province</th>\n      <th>date</th>\n      <th>english</th>\n      <th>english_and_french</th>\n      <th>french</th>\n      <th>neither_official</th>\n      <th>official_language_minority</th>\n      <th>total</th>\n    </tr>\n  </thead>\n  <tbody>\n    <tr>\n      <th>0</th>\n      <td>Alberta</td>\n      <td>1971</td>\n      <td>1560209</td>\n      <td>2373</td>\n      <td>47301</td>\n      <td>17991</td>\n      <td>48488</td>\n      <td>1627874</td>\n    </tr>\n    <tr>\n      <th>1</th>\n      <td>Alberta</td>\n      <td>1981</td>\n      <td>2132396</td>\n      <td>7065</td>\n      <td>53253</td>\n      <td>20937</td>\n      <td>56785</td>\n      <td>2213651</td>\n    </tr>\n    <tr>\n      <th>2</th>\n      <td>Alberta</td>\n      <td>1991</td>\n      <td>2433560</td>\n      <td>5430</td>\n      <td>50565</td>\n      <td>29635</td>\n      <td>53280</td>\n      <td>2519180</td>\n    </tr>\n    <tr>\n      <th>3</th>\n      <td>Alberta</td>\n      <td>1996</td>\n      <td>2580675</td>\n      <td>6220</td>\n      <td>49390</td>\n      <td>32910</td>\n      <td>52500</td>\n      <td>2669195</td>\n    </tr>\n    <tr>\n      <th>4</th>\n      <td>Alberta</td>\n      <td>2001</td>\n      <td>2848810</td>\n      <td>6375</td>\n      <td>55645</td>\n      <td>30360</td>\n      <td>58833</td>\n      <td>2941190</td>\n    </tr>\n  </tbody>\n</table>\n</div>"
     },
     "metadata": {},
     "execution_count": 65
    }
   ],
   "source": [
    "# Some additional clean up\n",
    "column_names = ['province', 'date', 'english', 'english_and_french', 'french', 'neither_official', 'official_language_minority', 'total']\n",
    "\n",
    "df = df.reset_index()\n",
    "df.columns = column_names\n",
    "df.head()"
   ]
  },
  {
   "cell_type": "code",
   "execution_count": 69,
   "metadata": {},
   "outputs": [
    {
     "output_type": "execute_result",
     "data": {
      "text/plain": [
       "                   Geography     Q1 1971     Q2 1971     Q3 1971     Q4 1971  \\\n",
       "0                        NaN     Persons         NaN         NaN         NaN   \n",
       "1                     Canada  21,465,000  21,523,000  21,962,032  22,039,243   \n",
       "2  Newfoundland and Labrador     519,000     521,000     530,854     534,471   \n",
       "3       Prince Edward Island     111,000     111,000     112,591     112,874   \n",
       "4                Nova Scotia     785,000     788,000     797,294     798,804   \n",
       "\n",
       "      Q1 1972     Q2 1972     Q3 1972     Q4 1972     Q1 1973  ...  \\\n",
       "0         NaN         NaN         NaN         NaN         NaN  ...   \n",
       "1  22,092,498  22,148,919  22,218,463  22,288,499  22,347,459  ...   \n",
       "2     535,736     537,368     539,124     541,472     542,983  ...   \n",
       "3     112,964     113,314     113,460     113,960     114,276  ...   \n",
       "4     800,513     800,542     802,255     805,317     808,614  ...   \n",
       "\n",
       "      Q2 2014     Q3 2014     Q4 2014     Q1 2015     Q2 2015     Q3 2015  \\\n",
       "0         NaN         NaN         NaN         NaN         NaN         NaN   \n",
       "1  35,323,533  35,437,435  35,559,047  35,575,187  35,611,271  35,702,908   \n",
       "2     527,498     528,159     528,461     528,361     528,063     528,117   \n",
       "3     143,984     144,283     144,538     144,368     144,259     144,546   \n",
       "4     938,913     938,545     938,972     938,296     936,271     936,525   \n",
       "\n",
       "      Q4 2015     Q1 2016     Q2 2016     Q3 2016  \n",
       "0         NaN         NaN         NaN         NaN  \n",
       "1  35,822,894  35,871,136  35,970,303  36,109,487  \n",
       "2     528,696     528,800     529,063     529,426  \n",
       "3     144,894     145,202     145,784     146,969  \n",
       "4     938,320     938,690     940,382     942,790  \n",
       "\n",
       "[5 rows x 184 columns]"
      ],
      "text/html": "<div>\n<style scoped>\n    .dataframe tbody tr th:only-of-type {\n        vertical-align: middle;\n    }\n\n    .dataframe tbody tr th {\n        vertical-align: top;\n    }\n\n    .dataframe thead th {\n        text-align: right;\n    }\n</style>\n<table border=\"1\" class=\"dataframe\">\n  <thead>\n    <tr style=\"text-align: right;\">\n      <th></th>\n      <th>Geography</th>\n      <th>Q1 1971</th>\n      <th>Q2 1971</th>\n      <th>Q3 1971</th>\n      <th>Q4 1971</th>\n      <th>Q1 1972</th>\n      <th>Q2 1972</th>\n      <th>Q3 1972</th>\n      <th>Q4 1972</th>\n      <th>Q1 1973</th>\n      <th>...</th>\n      <th>Q2 2014</th>\n      <th>Q3 2014</th>\n      <th>Q4 2014</th>\n      <th>Q1 2015</th>\n      <th>Q2 2015</th>\n      <th>Q3 2015</th>\n      <th>Q4 2015</th>\n      <th>Q1 2016</th>\n      <th>Q2 2016</th>\n      <th>Q3 2016</th>\n    </tr>\n  </thead>\n  <tbody>\n    <tr>\n      <th>0</th>\n      <td>NaN</td>\n      <td>Persons</td>\n      <td>NaN</td>\n      <td>NaN</td>\n      <td>NaN</td>\n      <td>NaN</td>\n      <td>NaN</td>\n      <td>NaN</td>\n      <td>NaN</td>\n      <td>NaN</td>\n      <td>...</td>\n      <td>NaN</td>\n      <td>NaN</td>\n      <td>NaN</td>\n      <td>NaN</td>\n      <td>NaN</td>\n      <td>NaN</td>\n      <td>NaN</td>\n      <td>NaN</td>\n      <td>NaN</td>\n      <td>NaN</td>\n    </tr>\n    <tr>\n      <th>1</th>\n      <td>Canada</td>\n      <td>21,465,000</td>\n      <td>21,523,000</td>\n      <td>21,962,032</td>\n      <td>22,039,243</td>\n      <td>22,092,498</td>\n      <td>22,148,919</td>\n      <td>22,218,463</td>\n      <td>22,288,499</td>\n      <td>22,347,459</td>\n      <td>...</td>\n      <td>35,323,533</td>\n      <td>35,437,435</td>\n      <td>35,559,047</td>\n      <td>35,575,187</td>\n      <td>35,611,271</td>\n      <td>35,702,908</td>\n      <td>35,822,894</td>\n      <td>35,871,136</td>\n      <td>35,970,303</td>\n      <td>36,109,487</td>\n    </tr>\n    <tr>\n      <th>2</th>\n      <td>Newfoundland and Labrador</td>\n      <td>519,000</td>\n      <td>521,000</td>\n      <td>530,854</td>\n      <td>534,471</td>\n      <td>535,736</td>\n      <td>537,368</td>\n      <td>539,124</td>\n      <td>541,472</td>\n      <td>542,983</td>\n      <td>...</td>\n      <td>527,498</td>\n      <td>528,159</td>\n      <td>528,461</td>\n      <td>528,361</td>\n      <td>528,063</td>\n      <td>528,117</td>\n      <td>528,696</td>\n      <td>528,800</td>\n      <td>529,063</td>\n      <td>529,426</td>\n    </tr>\n    <tr>\n      <th>3</th>\n      <td>Prince Edward Island</td>\n      <td>111,000</td>\n      <td>111,000</td>\n      <td>112,591</td>\n      <td>112,874</td>\n      <td>112,964</td>\n      <td>113,314</td>\n      <td>113,460</td>\n      <td>113,960</td>\n      <td>114,276</td>\n      <td>...</td>\n      <td>143,984</td>\n      <td>144,283</td>\n      <td>144,538</td>\n      <td>144,368</td>\n      <td>144,259</td>\n      <td>144,546</td>\n      <td>144,894</td>\n      <td>145,202</td>\n      <td>145,784</td>\n      <td>146,969</td>\n    </tr>\n    <tr>\n      <th>4</th>\n      <td>Nova Scotia</td>\n      <td>785,000</td>\n      <td>788,000</td>\n      <td>797,294</td>\n      <td>798,804</td>\n      <td>800,513</td>\n      <td>800,542</td>\n      <td>802,255</td>\n      <td>805,317</td>\n      <td>808,614</td>\n      <td>...</td>\n      <td>938,913</td>\n      <td>938,545</td>\n      <td>938,972</td>\n      <td>938,296</td>\n      <td>936,271</td>\n      <td>936,525</td>\n      <td>938,320</td>\n      <td>938,690</td>\n      <td>940,382</td>\n      <td>942,790</td>\n    </tr>\n  </tbody>\n</table>\n<p>5 rows × 184 columns</p>\n</div>"
     },
     "metadata": {},
     "execution_count": 69
    }
   ],
   "source": [
    "# These numbers are great, but what about per/capita\n",
    "# Of course we want to go back to 1971...\n",
    "\n",
    "pop = pd.read_csv('1710000901-eng.csv', skiprows=5)\n",
    "pop.head()"
   ]
  },
  {
   "cell_type": "code",
   "execution_count": 71,
   "metadata": {},
   "outputs": [],
   "source": [
    "pop = pop.loc[pop['Geography'].isin(geo_provinces)]"
   ]
  },
  {
   "cell_type": "code",
   "execution_count": 84,
   "metadata": {},
   "outputs": [
    {
     "output_type": "execute_result",
     "data": {
      "text/plain": [
       "Index(['Q1 1971', 'Q1 1972', 'Q1 1973', 'Q1 1974', 'Q1 1975', 'Q1 1976',\n",
       "       'Q1 1977', 'Q1 1978', 'Q1 1979', 'Q1 1980', 'Q1 1981', 'Q1 1982',\n",
       "       'Q1 1983', 'Q1 1984', 'Q1 1985', 'Q1 1986', 'Q1 1987', 'Q1 1988',\n",
       "       'Q1 1989', 'Q1 1990', 'Q1 1991', 'Q1 1992', 'Q1 1993', 'Q1 1994',\n",
       "       'Q1 1995', 'Q1 1996', 'Q1 1997', 'Q1 1998', 'Q1 1999', 'Q1 2000',\n",
       "       'Q1 2001', 'Q1 2002', 'Q1 2003', 'Q1 2004', 'Q1 2005', 'Q1 2006',\n",
       "       'Q1 2007', 'Q1 2008', 'Q1 2009', 'Q1 2010', 'Q1 2011', 'Q1 2012',\n",
       "       'Q1 2013', 'Q1 2014', 'Q1 2015', 'Q1 2016'],\n",
       "      dtype='object')"
      ]
     },
     "metadata": {},
     "execution_count": 84
    }
   ],
   "source": [
    "# Extract only Q1\n",
    "q1s = pop.columns[pop.columns.str.contains('Q1')]\n",
    "q1s"
   ]
  },
  {
   "cell_type": "code",
   "execution_count": 77,
   "metadata": {},
   "outputs": [
    {
     "output_type": "execute_result",
     "data": {
      "text/plain": [
       "array([1971, 1981, 1991, 1996, 2001, 2006, 2011, 2016])"
      ]
     },
     "metadata": {},
     "execution_count": 77
    }
   ],
   "source": [
    "# We also only have a subset of years\n",
    "years = df['date'].unique()\n",
    "years"
   ]
  },
  {
   "cell_type": "code",
   "execution_count": 83,
   "metadata": {},
   "outputs": [],
   "source": [
    "mask = [True if i in years else False for i in range(1971, 2017)]"
   ]
  },
  {
   "cell_type": "code",
   "execution_count": 88,
   "metadata": {},
   "outputs": [],
   "source": [
    "keep_cols = list(q1s[mask]) + ['Geography']"
   ]
  },
  {
   "cell_type": "code",
   "execution_count": 91,
   "metadata": {},
   "outputs": [
    {
     "output_type": "execute_result",
     "data": {
      "text/plain": [
       "     Q1 1971    Q1 1981    Q1 1991    Q1 1996    Q1 2001    Q1 2006  \\\n",
       "2    519,000    573,420    577,377    563,679    525,299    512,564   \n",
       "3    111,000    123,315    130,477    135,119    136,377    137,907   \n",
       "4    785,000    853,673    912,792    929,782    933,463    938,117   \n",
       "5    630,000    704,763    743,210    751,581    749,715    746,983   \n",
       "6  6,017,000  6,523,258  7,026,241  7,232,952  7,373,978  7,604,258   \n",
       "\n",
       "     Q1 2011    Q1 2016                  Geography  \n",
       "2    523,726    528,800  Newfoundland and Labrador  \n",
       "3    143,020    145,202       Prince Edward Island  \n",
       "4    944,068    938,690                Nova Scotia  \n",
       "5    754,794    760,580              New Brunswick  \n",
       "6  7,967,185  8,193,624                     Quebec  "
      ],
      "text/html": "<div>\n<style scoped>\n    .dataframe tbody tr th:only-of-type {\n        vertical-align: middle;\n    }\n\n    .dataframe tbody tr th {\n        vertical-align: top;\n    }\n\n    .dataframe thead th {\n        text-align: right;\n    }\n</style>\n<table border=\"1\" class=\"dataframe\">\n  <thead>\n    <tr style=\"text-align: right;\">\n      <th></th>\n      <th>Q1 1971</th>\n      <th>Q1 1981</th>\n      <th>Q1 1991</th>\n      <th>Q1 1996</th>\n      <th>Q1 2001</th>\n      <th>Q1 2006</th>\n      <th>Q1 2011</th>\n      <th>Q1 2016</th>\n      <th>Geography</th>\n    </tr>\n  </thead>\n  <tbody>\n    <tr>\n      <th>2</th>\n      <td>519,000</td>\n      <td>573,420</td>\n      <td>577,377</td>\n      <td>563,679</td>\n      <td>525,299</td>\n      <td>512,564</td>\n      <td>523,726</td>\n      <td>528,800</td>\n      <td>Newfoundland and Labrador</td>\n    </tr>\n    <tr>\n      <th>3</th>\n      <td>111,000</td>\n      <td>123,315</td>\n      <td>130,477</td>\n      <td>135,119</td>\n      <td>136,377</td>\n      <td>137,907</td>\n      <td>143,020</td>\n      <td>145,202</td>\n      <td>Prince Edward Island</td>\n    </tr>\n    <tr>\n      <th>4</th>\n      <td>785,000</td>\n      <td>853,673</td>\n      <td>912,792</td>\n      <td>929,782</td>\n      <td>933,463</td>\n      <td>938,117</td>\n      <td>944,068</td>\n      <td>938,690</td>\n      <td>Nova Scotia</td>\n    </tr>\n    <tr>\n      <th>5</th>\n      <td>630,000</td>\n      <td>704,763</td>\n      <td>743,210</td>\n      <td>751,581</td>\n      <td>749,715</td>\n      <td>746,983</td>\n      <td>754,794</td>\n      <td>760,580</td>\n      <td>New Brunswick</td>\n    </tr>\n    <tr>\n      <th>6</th>\n      <td>6,017,000</td>\n      <td>6,523,258</td>\n      <td>7,026,241</td>\n      <td>7,232,952</td>\n      <td>7,373,978</td>\n      <td>7,604,258</td>\n      <td>7,967,185</td>\n      <td>8,193,624</td>\n      <td>Quebec</td>\n    </tr>\n  </tbody>\n</table>\n</div>"
     },
     "metadata": {},
     "execution_count": 91
    }
   ],
   "source": [
    "pop = pop[keep_cols]\n",
    "pop.head() "
   ]
  },
  {
   "cell_type": "code",
   "execution_count": 94,
   "metadata": {},
   "outputs": [],
   "source": [
    "pop.columns = [i.replace('Q1 ', '') for i in keep_cols]"
   ]
  },
  {
   "cell_type": "code",
   "execution_count": 95,
   "metadata": {},
   "outputs": [
    {
     "output_type": "execute_result",
     "data": {
      "text/plain": [
       "         1971       1981        1991        1996        2001        2006  \\\n",
       "2     519,000    573,420     577,377     563,679     525,299     512,564   \n",
       "3     111,000    123,315     130,477     135,119     136,377     137,907   \n",
       "4     785,000    853,673     912,792     929,782     933,463     938,117   \n",
       "5     630,000    704,763     743,210     751,581     749,715     746,983   \n",
       "6   6,017,000  6,523,258   7,026,241   7,232,952   7,373,978   7,604,258   \n",
       "7   7,656,000  8,770,591  10,355,101  11,009,307  11,771,945  12,587,531   \n",
       "8     984,000  1,033,968   1,106,196   1,130,288   1,148,456   1,179,920   \n",
       "9     927,000    971,544   1,002,651   1,016,198   1,003,469     992,237   \n",
       "10  1,616,000  2,249,907   2,572,947   2,753,463   3,027,941   3,371,823   \n",
       "11  2,168,000  2,790,754   3,339,935   3,826,739   4,055,229   4,217,962   \n",
       "12     18,000     23,311      28,223      30,963      30,147      32,112   \n",
       "13         ..         ..          ..      41,495      40,624      43,318   \n",
       "14         ..         ..          ..      25,291      27,798      30,577   \n",
       "\n",
       "          2011        2016                  Geography  \n",
       "2      523,726     528,800  Newfoundland and Labrador  \n",
       "3      143,020     145,202       Prince Edward Island  \n",
       "4      944,068     938,690                Nova Scotia  \n",
       "5      754,794     760,580              New Brunswick  \n",
       "6    7,967,185   8,193,624                     Quebec  \n",
       "7   13,198,650  13,773,629                    Ontario  \n",
       "8    1,227,212   1,302,544                   Manitoba  \n",
       "9    1,058,963   1,127,773               Saskatchewan  \n",
       "10   3,754,424   4,169,830                    Alberta  \n",
       "11   4,482,260   4,811,465           British Columbia  \n",
       "12      34,801      37,770                      Yukon  \n",
       "13      43,263      44,507      Northwest Territories  \n",
       "14      33,733      36,722                    Nunavut  "
      ],
      "text/html": "<div>\n<style scoped>\n    .dataframe tbody tr th:only-of-type {\n        vertical-align: middle;\n    }\n\n    .dataframe tbody tr th {\n        vertical-align: top;\n    }\n\n    .dataframe thead th {\n        text-align: right;\n    }\n</style>\n<table border=\"1\" class=\"dataframe\">\n  <thead>\n    <tr style=\"text-align: right;\">\n      <th></th>\n      <th>1971</th>\n      <th>1981</th>\n      <th>1991</th>\n      <th>1996</th>\n      <th>2001</th>\n      <th>2006</th>\n      <th>2011</th>\n      <th>2016</th>\n      <th>Geography</th>\n    </tr>\n  </thead>\n  <tbody>\n    <tr>\n      <th>2</th>\n      <td>519,000</td>\n      <td>573,420</td>\n      <td>577,377</td>\n      <td>563,679</td>\n      <td>525,299</td>\n      <td>512,564</td>\n      <td>523,726</td>\n      <td>528,800</td>\n      <td>Newfoundland and Labrador</td>\n    </tr>\n    <tr>\n      <th>3</th>\n      <td>111,000</td>\n      <td>123,315</td>\n      <td>130,477</td>\n      <td>135,119</td>\n      <td>136,377</td>\n      <td>137,907</td>\n      <td>143,020</td>\n      <td>145,202</td>\n      <td>Prince Edward Island</td>\n    </tr>\n    <tr>\n      <th>4</th>\n      <td>785,000</td>\n      <td>853,673</td>\n      <td>912,792</td>\n      <td>929,782</td>\n      <td>933,463</td>\n      <td>938,117</td>\n      <td>944,068</td>\n      <td>938,690</td>\n      <td>Nova Scotia</td>\n    </tr>\n    <tr>\n      <th>5</th>\n      <td>630,000</td>\n      <td>704,763</td>\n      <td>743,210</td>\n      <td>751,581</td>\n      <td>749,715</td>\n      <td>746,983</td>\n      <td>754,794</td>\n      <td>760,580</td>\n      <td>New Brunswick</td>\n    </tr>\n    <tr>\n      <th>6</th>\n      <td>6,017,000</td>\n      <td>6,523,258</td>\n      <td>7,026,241</td>\n      <td>7,232,952</td>\n      <td>7,373,978</td>\n      <td>7,604,258</td>\n      <td>7,967,185</td>\n      <td>8,193,624</td>\n      <td>Quebec</td>\n    </tr>\n    <tr>\n      <th>7</th>\n      <td>7,656,000</td>\n      <td>8,770,591</td>\n      <td>10,355,101</td>\n      <td>11,009,307</td>\n      <td>11,771,945</td>\n      <td>12,587,531</td>\n      <td>13,198,650</td>\n      <td>13,773,629</td>\n      <td>Ontario</td>\n    </tr>\n    <tr>\n      <th>8</th>\n      <td>984,000</td>\n      <td>1,033,968</td>\n      <td>1,106,196</td>\n      <td>1,130,288</td>\n      <td>1,148,456</td>\n      <td>1,179,920</td>\n      <td>1,227,212</td>\n      <td>1,302,544</td>\n      <td>Manitoba</td>\n    </tr>\n    <tr>\n      <th>9</th>\n      <td>927,000</td>\n      <td>971,544</td>\n      <td>1,002,651</td>\n      <td>1,016,198</td>\n      <td>1,003,469</td>\n      <td>992,237</td>\n      <td>1,058,963</td>\n      <td>1,127,773</td>\n      <td>Saskatchewan</td>\n    </tr>\n    <tr>\n      <th>10</th>\n      <td>1,616,000</td>\n      <td>2,249,907</td>\n      <td>2,572,947</td>\n      <td>2,753,463</td>\n      <td>3,027,941</td>\n      <td>3,371,823</td>\n      <td>3,754,424</td>\n      <td>4,169,830</td>\n      <td>Alberta</td>\n    </tr>\n    <tr>\n      <th>11</th>\n      <td>2,168,000</td>\n      <td>2,790,754</td>\n      <td>3,339,935</td>\n      <td>3,826,739</td>\n      <td>4,055,229</td>\n      <td>4,217,962</td>\n      <td>4,482,260</td>\n      <td>4,811,465</td>\n      <td>British Columbia</td>\n    </tr>\n    <tr>\n      <th>12</th>\n      <td>18,000</td>\n      <td>23,311</td>\n      <td>28,223</td>\n      <td>30,963</td>\n      <td>30,147</td>\n      <td>32,112</td>\n      <td>34,801</td>\n      <td>37,770</td>\n      <td>Yukon</td>\n    </tr>\n    <tr>\n      <th>13</th>\n      <td>..</td>\n      <td>..</td>\n      <td>..</td>\n      <td>41,495</td>\n      <td>40,624</td>\n      <td>43,318</td>\n      <td>43,263</td>\n      <td>44,507</td>\n      <td>Northwest Territories</td>\n    </tr>\n    <tr>\n      <th>14</th>\n      <td>..</td>\n      <td>..</td>\n      <td>..</td>\n      <td>25,291</td>\n      <td>27,798</td>\n      <td>30,577</td>\n      <td>33,733</td>\n      <td>36,722</td>\n      <td>Nunavut</td>\n    </tr>\n  </tbody>\n</table>\n</div>"
     },
     "metadata": {},
     "execution_count": 95
    }
   ],
   "source": [
    "pop"
   ]
  },
  {
   "cell_type": "code",
   "execution_count": 99,
   "metadata": {},
   "outputs": [],
   "source": [
    "pop = pop.applymap(lambda x: x.replace(',', '').replace('..', '0'))"
   ]
  },
  {
   "cell_type": "code",
   "execution_count": 100,
   "metadata": {},
   "outputs": [
    {
     "output_type": "execute_result",
     "data": {
      "text/plain": [
       "       1971     1981      1991      1996      2001      2006      2011  \\\n",
       "2    519000   573420    577377    563679    525299    512564    523726   \n",
       "3    111000   123315    130477    135119    136377    137907    143020   \n",
       "4    785000   853673    912792    929782    933463    938117    944068   \n",
       "5    630000   704763    743210    751581    749715    746983    754794   \n",
       "6   6017000  6523258   7026241   7232952   7373978   7604258   7967185   \n",
       "7   7656000  8770591  10355101  11009307  11771945  12587531  13198650   \n",
       "8    984000  1033968   1106196   1130288   1148456   1179920   1227212   \n",
       "9    927000   971544   1002651   1016198   1003469    992237   1058963   \n",
       "10  1616000  2249907   2572947   2753463   3027941   3371823   3754424   \n",
       "11  2168000  2790754   3339935   3826739   4055229   4217962   4482260   \n",
       "12    18000    23311     28223     30963     30147     32112     34801   \n",
       "13        0        0         0     41495     40624     43318     43263   \n",
       "14        0        0         0     25291     27798     30577     33733   \n",
       "\n",
       "        2016                  Geography  \n",
       "2     528800  Newfoundland and Labrador  \n",
       "3     145202       Prince Edward Island  \n",
       "4     938690                Nova Scotia  \n",
       "5     760580              New Brunswick  \n",
       "6    8193624                     Quebec  \n",
       "7   13773629                    Ontario  \n",
       "8    1302544                   Manitoba  \n",
       "9    1127773               Saskatchewan  \n",
       "10   4169830                    Alberta  \n",
       "11   4811465           British Columbia  \n",
       "12     37770                      Yukon  \n",
       "13     44507      Northwest Territories  \n",
       "14     36722                    Nunavut  "
      ],
      "text/html": "<div>\n<style scoped>\n    .dataframe tbody tr th:only-of-type {\n        vertical-align: middle;\n    }\n\n    .dataframe tbody tr th {\n        vertical-align: top;\n    }\n\n    .dataframe thead th {\n        text-align: right;\n    }\n</style>\n<table border=\"1\" class=\"dataframe\">\n  <thead>\n    <tr style=\"text-align: right;\">\n      <th></th>\n      <th>1971</th>\n      <th>1981</th>\n      <th>1991</th>\n      <th>1996</th>\n      <th>2001</th>\n      <th>2006</th>\n      <th>2011</th>\n      <th>2016</th>\n      <th>Geography</th>\n    </tr>\n  </thead>\n  <tbody>\n    <tr>\n      <th>2</th>\n      <td>519000</td>\n      <td>573420</td>\n      <td>577377</td>\n      <td>563679</td>\n      <td>525299</td>\n      <td>512564</td>\n      <td>523726</td>\n      <td>528800</td>\n      <td>Newfoundland and Labrador</td>\n    </tr>\n    <tr>\n      <th>3</th>\n      <td>111000</td>\n      <td>123315</td>\n      <td>130477</td>\n      <td>135119</td>\n      <td>136377</td>\n      <td>137907</td>\n      <td>143020</td>\n      <td>145202</td>\n      <td>Prince Edward Island</td>\n    </tr>\n    <tr>\n      <th>4</th>\n      <td>785000</td>\n      <td>853673</td>\n      <td>912792</td>\n      <td>929782</td>\n      <td>933463</td>\n      <td>938117</td>\n      <td>944068</td>\n      <td>938690</td>\n      <td>Nova Scotia</td>\n    </tr>\n    <tr>\n      <th>5</th>\n      <td>630000</td>\n      <td>704763</td>\n      <td>743210</td>\n      <td>751581</td>\n      <td>749715</td>\n      <td>746983</td>\n      <td>754794</td>\n      <td>760580</td>\n      <td>New Brunswick</td>\n    </tr>\n    <tr>\n      <th>6</th>\n      <td>6017000</td>\n      <td>6523258</td>\n      <td>7026241</td>\n      <td>7232952</td>\n      <td>7373978</td>\n      <td>7604258</td>\n      <td>7967185</td>\n      <td>8193624</td>\n      <td>Quebec</td>\n    </tr>\n    <tr>\n      <th>7</th>\n      <td>7656000</td>\n      <td>8770591</td>\n      <td>10355101</td>\n      <td>11009307</td>\n      <td>11771945</td>\n      <td>12587531</td>\n      <td>13198650</td>\n      <td>13773629</td>\n      <td>Ontario</td>\n    </tr>\n    <tr>\n      <th>8</th>\n      <td>984000</td>\n      <td>1033968</td>\n      <td>1106196</td>\n      <td>1130288</td>\n      <td>1148456</td>\n      <td>1179920</td>\n      <td>1227212</td>\n      <td>1302544</td>\n      <td>Manitoba</td>\n    </tr>\n    <tr>\n      <th>9</th>\n      <td>927000</td>\n      <td>971544</td>\n      <td>1002651</td>\n      <td>1016198</td>\n      <td>1003469</td>\n      <td>992237</td>\n      <td>1058963</td>\n      <td>1127773</td>\n      <td>Saskatchewan</td>\n    </tr>\n    <tr>\n      <th>10</th>\n      <td>1616000</td>\n      <td>2249907</td>\n      <td>2572947</td>\n      <td>2753463</td>\n      <td>3027941</td>\n      <td>3371823</td>\n      <td>3754424</td>\n      <td>4169830</td>\n      <td>Alberta</td>\n    </tr>\n    <tr>\n      <th>11</th>\n      <td>2168000</td>\n      <td>2790754</td>\n      <td>3339935</td>\n      <td>3826739</td>\n      <td>4055229</td>\n      <td>4217962</td>\n      <td>4482260</td>\n      <td>4811465</td>\n      <td>British Columbia</td>\n    </tr>\n    <tr>\n      <th>12</th>\n      <td>18000</td>\n      <td>23311</td>\n      <td>28223</td>\n      <td>30963</td>\n      <td>30147</td>\n      <td>32112</td>\n      <td>34801</td>\n      <td>37770</td>\n      <td>Yukon</td>\n    </tr>\n    <tr>\n      <th>13</th>\n      <td>0</td>\n      <td>0</td>\n      <td>0</td>\n      <td>41495</td>\n      <td>40624</td>\n      <td>43318</td>\n      <td>43263</td>\n      <td>44507</td>\n      <td>Northwest Territories</td>\n    </tr>\n    <tr>\n      <th>14</th>\n      <td>0</td>\n      <td>0</td>\n      <td>0</td>\n      <td>25291</td>\n      <td>27798</td>\n      <td>30577</td>\n      <td>33733</td>\n      <td>36722</td>\n      <td>Nunavut</td>\n    </tr>\n  </tbody>\n</table>\n</div>"
     },
     "metadata": {},
     "execution_count": 100
    }
   ],
   "source": [
    "pop"
   ]
  },
  {
   "cell_type": "code",
   "execution_count": 102,
   "metadata": {},
   "outputs": [],
   "source": [
    "def conv(x):\n",
    "    try:\n",
    "        return int(x)\n",
    "    except:\n",
    "        return x\n",
    "\n",
    "pop = pop.applymap(conv)"
   ]
  },
  {
   "cell_type": "code",
   "execution_count": 105,
   "metadata": {},
   "outputs": [
    {
     "output_type": "execute_result",
     "data": {
      "text/plain": [
       "       1971     1981      1991      1996      2001      2006      2011  \\\n",
       "2    519000   573420    577377    563679    525299    512564    523726   \n",
       "3    111000   123315    130477    135119    136377    137907    143020   \n",
       "4    785000   853673    912792    929782    933463    938117    944068   \n",
       "5    630000   704763    743210    751581    749715    746983    754794   \n",
       "6   6017000  6523258   7026241   7232952   7373978   7604258   7967185   \n",
       "7   7656000  8770591  10355101  11009307  11771945  12587531  13198650   \n",
       "8    984000  1033968   1106196   1130288   1148456   1179920   1227212   \n",
       "9    927000   971544   1002651   1016198   1003469    992237   1058963   \n",
       "10  1616000  2249907   2572947   2753463   3027941   3371823   3754424   \n",
       "11  2168000  2790754   3339935   3826739   4055229   4217962   4482260   \n",
       "12    18000    23311     28223     30963     30147     32112     34801   \n",
       "13        0        0         0     41495     40624     43318     43263   \n",
       "14        0        0         0     25291     27798     30577     33733   \n",
       "\n",
       "        2016                  Geography  \n",
       "2     528800  Newfoundland and Labrador  \n",
       "3     145202       Prince Edward Island  \n",
       "4     938690                Nova Scotia  \n",
       "5     760580              New Brunswick  \n",
       "6    8193624                     Quebec  \n",
       "7   13773629                    Ontario  \n",
       "8    1302544                   Manitoba  \n",
       "9    1127773               Saskatchewan  \n",
       "10   4169830                    Alberta  \n",
       "11   4811465           British Columbia  \n",
       "12     37770                      Yukon  \n",
       "13     44507      Northwest Territories  \n",
       "14     36722                    Nunavut  "
      ],
      "text/html": "<div>\n<style scoped>\n    .dataframe tbody tr th:only-of-type {\n        vertical-align: middle;\n    }\n\n    .dataframe tbody tr th {\n        vertical-align: top;\n    }\n\n    .dataframe thead th {\n        text-align: right;\n    }\n</style>\n<table border=\"1\" class=\"dataframe\">\n  <thead>\n    <tr style=\"text-align: right;\">\n      <th></th>\n      <th>1971</th>\n      <th>1981</th>\n      <th>1991</th>\n      <th>1996</th>\n      <th>2001</th>\n      <th>2006</th>\n      <th>2011</th>\n      <th>2016</th>\n      <th>Geography</th>\n    </tr>\n  </thead>\n  <tbody>\n    <tr>\n      <th>2</th>\n      <td>519000</td>\n      <td>573420</td>\n      <td>577377</td>\n      <td>563679</td>\n      <td>525299</td>\n      <td>512564</td>\n      <td>523726</td>\n      <td>528800</td>\n      <td>Newfoundland and Labrador</td>\n    </tr>\n    <tr>\n      <th>3</th>\n      <td>111000</td>\n      <td>123315</td>\n      <td>130477</td>\n      <td>135119</td>\n      <td>136377</td>\n      <td>137907</td>\n      <td>143020</td>\n      <td>145202</td>\n      <td>Prince Edward Island</td>\n    </tr>\n    <tr>\n      <th>4</th>\n      <td>785000</td>\n      <td>853673</td>\n      <td>912792</td>\n      <td>929782</td>\n      <td>933463</td>\n      <td>938117</td>\n      <td>944068</td>\n      <td>938690</td>\n      <td>Nova Scotia</td>\n    </tr>\n    <tr>\n      <th>5</th>\n      <td>630000</td>\n      <td>704763</td>\n      <td>743210</td>\n      <td>751581</td>\n      <td>749715</td>\n      <td>746983</td>\n      <td>754794</td>\n      <td>760580</td>\n      <td>New Brunswick</td>\n    </tr>\n    <tr>\n      <th>6</th>\n      <td>6017000</td>\n      <td>6523258</td>\n      <td>7026241</td>\n      <td>7232952</td>\n      <td>7373978</td>\n      <td>7604258</td>\n      <td>7967185</td>\n      <td>8193624</td>\n      <td>Quebec</td>\n    </tr>\n    <tr>\n      <th>7</th>\n      <td>7656000</td>\n      <td>8770591</td>\n      <td>10355101</td>\n      <td>11009307</td>\n      <td>11771945</td>\n      <td>12587531</td>\n      <td>13198650</td>\n      <td>13773629</td>\n      <td>Ontario</td>\n    </tr>\n    <tr>\n      <th>8</th>\n      <td>984000</td>\n      <td>1033968</td>\n      <td>1106196</td>\n      <td>1130288</td>\n      <td>1148456</td>\n      <td>1179920</td>\n      <td>1227212</td>\n      <td>1302544</td>\n      <td>Manitoba</td>\n    </tr>\n    <tr>\n      <th>9</th>\n      <td>927000</td>\n      <td>971544</td>\n      <td>1002651</td>\n      <td>1016198</td>\n      <td>1003469</td>\n      <td>992237</td>\n      <td>1058963</td>\n      <td>1127773</td>\n      <td>Saskatchewan</td>\n    </tr>\n    <tr>\n      <th>10</th>\n      <td>1616000</td>\n      <td>2249907</td>\n      <td>2572947</td>\n      <td>2753463</td>\n      <td>3027941</td>\n      <td>3371823</td>\n      <td>3754424</td>\n      <td>4169830</td>\n      <td>Alberta</td>\n    </tr>\n    <tr>\n      <th>11</th>\n      <td>2168000</td>\n      <td>2790754</td>\n      <td>3339935</td>\n      <td>3826739</td>\n      <td>4055229</td>\n      <td>4217962</td>\n      <td>4482260</td>\n      <td>4811465</td>\n      <td>British Columbia</td>\n    </tr>\n    <tr>\n      <th>12</th>\n      <td>18000</td>\n      <td>23311</td>\n      <td>28223</td>\n      <td>30963</td>\n      <td>30147</td>\n      <td>32112</td>\n      <td>34801</td>\n      <td>37770</td>\n      <td>Yukon</td>\n    </tr>\n    <tr>\n      <th>13</th>\n      <td>0</td>\n      <td>0</td>\n      <td>0</td>\n      <td>41495</td>\n      <td>40624</td>\n      <td>43318</td>\n      <td>43263</td>\n      <td>44507</td>\n      <td>Northwest Territories</td>\n    </tr>\n    <tr>\n      <th>14</th>\n      <td>0</td>\n      <td>0</td>\n      <td>0</td>\n      <td>25291</td>\n      <td>27798</td>\n      <td>30577</td>\n      <td>33733</td>\n      <td>36722</td>\n      <td>Nunavut</td>\n    </tr>\n  </tbody>\n</table>\n</div>"
     },
     "metadata": {},
     "execution_count": 105
    }
   ],
   "source": [
    "pop"
   ]
  },
  {
   "cell_type": "code",
   "execution_count": 111,
   "metadata": {},
   "outputs": [],
   "source": [
    "pop = pop.set_index('Geography').stack().reset_index()"
   ]
  },
  {
   "cell_type": "code",
   "execution_count": 116,
   "metadata": {},
   "outputs": [],
   "source": [
    "pop.columns = ['province', 'date', 'population']"
   ]
  },
  {
   "cell_type": "code",
   "execution_count": 128,
   "metadata": {},
   "outputs": [],
   "source": [
    "pop['date'] = pd.to_numeric(pop['date'])"
   ]
  },
  {
   "cell_type": "code",
   "execution_count": 129,
   "metadata": {},
   "outputs": [
    {
     "output_type": "execute_result",
     "data": {
      "text/plain": [
       "province      object\n",
       "date           int64\n",
       "population     int64\n",
       "dtype: object"
      ]
     },
     "metadata": {},
     "execution_count": 129
    }
   ],
   "source": [
    "pop.dtypes"
   ]
  },
  {
   "cell_type": "code",
   "execution_count": 133,
   "metadata": {},
   "outputs": [],
   "source": [
    "comb = df.merge(pop, on=['province', 'date'])"
   ]
  },
  {
   "cell_type": "code",
   "execution_count": 134,
   "metadata": {},
   "outputs": [],
   "source": [
    "comb['english-pct'] = comb['english'] / comb['population']\n",
    "comb['french-pct'] = comb['french'] / comb['population']\n",
    "comb['neither-pct'] = comb['neither_official'] / comb['population']"
   ]
  },
  {
   "cell_type": "code",
   "execution_count": 135,
   "metadata": {},
   "outputs": [
    {
     "output_type": "execute_result",
     "data": {
      "text/plain": [
       "   province  date  english  english_and_french  french  neither_official  \\\n",
       "0   Alberta  1971  1560209                2373   47301             17991   \n",
       "1   Alberta  1981  2132396                7065   53253             20937   \n",
       "2   Alberta  1991  2433560                5430   50565             29635   \n",
       "3   Alberta  1996  2580675                6220   49390             32910   \n",
       "4   Alberta  2001  2848810                6375   55645             30360   \n",
       "..      ...   ...      ...                 ...     ...               ...   \n",
       "83    Yukon  1996    29455                  70    1080                45   \n",
       "84    Yukon  2001    27545                  60     850                60   \n",
       "85    Yukon  2006    28830                 120    1120               120   \n",
       "86    Yukon  2011    32015                 125    1420                95   \n",
       "87    Yukon  2016    33725                 125    1575               135   \n",
       "\n",
       "    official_language_minority    total  population  english-pct  french-pct  \\\n",
       "0                        48488  1627874     1616000     0.965476    0.029270   \n",
       "1                        56785  2213651     2249907     0.947771    0.023669   \n",
       "2                        53280  2519180     2572947     0.945826    0.019653   \n",
       "3                        52500  2669195     2753463     0.937247    0.017937   \n",
       "4                        58833  2941190     3027941     0.940841    0.018377   \n",
       "..                         ...      ...         ...          ...         ...   \n",
       "83                        1115    30655       30963     0.951297    0.034880   \n",
       "84                         880    28515       30147     0.913690    0.028195   \n",
       "85                        1185    30195       32112     0.897795    0.034878   \n",
       "86                        1485    33655       34801     0.919945    0.040803   \n",
       "87                        1640    35560       37770     0.892904    0.041700   \n",
       "\n",
       "    neither-pct  \n",
       "0      0.011133  \n",
       "1      0.009306  \n",
       "2      0.011518  \n",
       "3      0.011952  \n",
       "4      0.010027  \n",
       "..          ...  \n",
       "83     0.001453  \n",
       "84     0.001990  \n",
       "85     0.003737  \n",
       "86     0.002730  \n",
       "87     0.003574  \n",
       "\n",
       "[88 rows x 12 columns]"
      ],
      "text/html": "<div>\n<style scoped>\n    .dataframe tbody tr th:only-of-type {\n        vertical-align: middle;\n    }\n\n    .dataframe tbody tr th {\n        vertical-align: top;\n    }\n\n    .dataframe thead th {\n        text-align: right;\n    }\n</style>\n<table border=\"1\" class=\"dataframe\">\n  <thead>\n    <tr style=\"text-align: right;\">\n      <th></th>\n      <th>province</th>\n      <th>date</th>\n      <th>english</th>\n      <th>english_and_french</th>\n      <th>french</th>\n      <th>neither_official</th>\n      <th>official_language_minority</th>\n      <th>total</th>\n      <th>population</th>\n      <th>english-pct</th>\n      <th>french-pct</th>\n      <th>neither-pct</th>\n    </tr>\n  </thead>\n  <tbody>\n    <tr>\n      <th>0</th>\n      <td>Alberta</td>\n      <td>1971</td>\n      <td>1560209</td>\n      <td>2373</td>\n      <td>47301</td>\n      <td>17991</td>\n      <td>48488</td>\n      <td>1627874</td>\n      <td>1616000</td>\n      <td>0.965476</td>\n      <td>0.029270</td>\n      <td>0.011133</td>\n    </tr>\n    <tr>\n      <th>1</th>\n      <td>Alberta</td>\n      <td>1981</td>\n      <td>2132396</td>\n      <td>7065</td>\n      <td>53253</td>\n      <td>20937</td>\n      <td>56785</td>\n      <td>2213651</td>\n      <td>2249907</td>\n      <td>0.947771</td>\n      <td>0.023669</td>\n      <td>0.009306</td>\n    </tr>\n    <tr>\n      <th>2</th>\n      <td>Alberta</td>\n      <td>1991</td>\n      <td>2433560</td>\n      <td>5430</td>\n      <td>50565</td>\n      <td>29635</td>\n      <td>53280</td>\n      <td>2519180</td>\n      <td>2572947</td>\n      <td>0.945826</td>\n      <td>0.019653</td>\n      <td>0.011518</td>\n    </tr>\n    <tr>\n      <th>3</th>\n      <td>Alberta</td>\n      <td>1996</td>\n      <td>2580675</td>\n      <td>6220</td>\n      <td>49390</td>\n      <td>32910</td>\n      <td>52500</td>\n      <td>2669195</td>\n      <td>2753463</td>\n      <td>0.937247</td>\n      <td>0.017937</td>\n      <td>0.011952</td>\n    </tr>\n    <tr>\n      <th>4</th>\n      <td>Alberta</td>\n      <td>2001</td>\n      <td>2848810</td>\n      <td>6375</td>\n      <td>55645</td>\n      <td>30360</td>\n      <td>58833</td>\n      <td>2941190</td>\n      <td>3027941</td>\n      <td>0.940841</td>\n      <td>0.018377</td>\n      <td>0.010027</td>\n    </tr>\n    <tr>\n      <th>...</th>\n      <td>...</td>\n      <td>...</td>\n      <td>...</td>\n      <td>...</td>\n      <td>...</td>\n      <td>...</td>\n      <td>...</td>\n      <td>...</td>\n      <td>...</td>\n      <td>...</td>\n      <td>...</td>\n      <td>...</td>\n    </tr>\n    <tr>\n      <th>83</th>\n      <td>Yukon</td>\n      <td>1996</td>\n      <td>29455</td>\n      <td>70</td>\n      <td>1080</td>\n      <td>45</td>\n      <td>1115</td>\n      <td>30655</td>\n      <td>30963</td>\n      <td>0.951297</td>\n      <td>0.034880</td>\n      <td>0.001453</td>\n    </tr>\n    <tr>\n      <th>84</th>\n      <td>Yukon</td>\n      <td>2001</td>\n      <td>27545</td>\n      <td>60</td>\n      <td>850</td>\n      <td>60</td>\n      <td>880</td>\n      <td>28515</td>\n      <td>30147</td>\n      <td>0.913690</td>\n      <td>0.028195</td>\n      <td>0.001990</td>\n    </tr>\n    <tr>\n      <th>85</th>\n      <td>Yukon</td>\n      <td>2006</td>\n      <td>28830</td>\n      <td>120</td>\n      <td>1120</td>\n      <td>120</td>\n      <td>1185</td>\n      <td>30195</td>\n      <td>32112</td>\n      <td>0.897795</td>\n      <td>0.034878</td>\n      <td>0.003737</td>\n    </tr>\n    <tr>\n      <th>86</th>\n      <td>Yukon</td>\n      <td>2011</td>\n      <td>32015</td>\n      <td>125</td>\n      <td>1420</td>\n      <td>95</td>\n      <td>1485</td>\n      <td>33655</td>\n      <td>34801</td>\n      <td>0.919945</td>\n      <td>0.040803</td>\n      <td>0.002730</td>\n    </tr>\n    <tr>\n      <th>87</th>\n      <td>Yukon</td>\n      <td>2016</td>\n      <td>33725</td>\n      <td>125</td>\n      <td>1575</td>\n      <td>135</td>\n      <td>1640</td>\n      <td>35560</td>\n      <td>37770</td>\n      <td>0.892904</td>\n      <td>0.041700</td>\n      <td>0.003574</td>\n    </tr>\n  </tbody>\n</table>\n<p>88 rows × 12 columns</p>\n</div>"
     },
     "metadata": {},
     "execution_count": 135
    }
   ],
   "source": [
    "comb"
   ]
  },
  {
   "source": [
    "# Let's Deal with the geoJSON data"
   ],
   "cell_type": "markdown",
   "metadata": {}
  },
  {
   "cell_type": "code",
   "execution_count": 26,
   "metadata": {},
   "outputs": [],
   "source": [
    "with open('canada_provinces.geojson') as f:\n",
    "    d = f.read()\n",
    "    data = json.loads(d)"
   ]
  },
  {
   "cell_type": "code",
   "execution_count": 30,
   "metadata": {},
   "outputs": [],
   "source": [
    "geo_provinces = [prov['properties']['name'] for prov in data['features']]"
   ]
  },
  {
   "cell_type": "code",
   "execution_count": 33,
   "metadata": {},
   "outputs": [
    {
     "output_type": "execute_result",
     "data": {
      "text/plain": [
       "['British Columbia',\n",
       " 'Newfoundland and Labrador',\n",
       " 'Northwest Territories',\n",
       " 'Nunavut',\n",
       " 'Saskatchewan',\n",
       " 'Quebec',\n",
       " 'Alberta',\n",
       " 'Manitoba',\n",
       " 'Nova Scotia',\n",
       " 'Ontario',\n",
       " 'New Brunswick',\n",
       " 'Prince Edward Island',\n",
       " 'Yukon']"
      ]
     },
     "metadata": {},
     "execution_count": 33
    }
   ],
   "source": [
    "geo_provinces"
   ]
  },
  {
   "cell_type": "code",
   "execution_count": 34,
   "metadata": {},
   "outputs": [
    {
     "output_type": "execute_result",
     "data": {
      "text/plain": [
       "{'Alberta',\n",
       " 'British Columbia',\n",
       " 'Manitoba',\n",
       " 'New Brunswick',\n",
       " 'Newfoundland and Labrador',\n",
       " 'Northwest Territories',\n",
       " 'Nova Scotia',\n",
       " 'Nunavut',\n",
       " 'Ontario',\n",
       " 'Prince Edward Island',\n",
       " 'Quebec',\n",
       " 'Saskatchewan ',\n",
       " 'Yukon'}"
      ]
     },
     "metadata": {},
     "execution_count": 34
    }
   ],
   "source": [
    "provinces"
   ]
  },
  {
   "cell_type": "code",
   "execution_count": 32,
   "metadata": {},
   "outputs": [
    {
     "output_type": "execute_result",
     "data": {
      "text/plain": [
       "{'Saskatchewan '}"
      ]
     },
     "metadata": {},
     "execution_count": 32
    }
   ],
   "source": [
    "provinces - set(geo_provinces)"
   ]
  },
  {
   "cell_type": "code",
   "execution_count": 35,
   "metadata": {},
   "outputs": [],
   "source": [
    "df['province'] = df['province'].map(lambda x: x.strip())"
   ]
  },
  {
   "cell_type": "code",
   "execution_count": 36,
   "metadata": {},
   "outputs": [
    {
     "output_type": "execute_result",
     "data": {
      "text/plain": [
       "array(['Alberta', 'British Columbia', 'Manitoba', 'New Brunswick',\n",
       "       'Newfoundland and Labrador', 'Northwest Territories',\n",
       "       'Nova Scotia', 'Nunavut', 'Ontario', 'Prince Edward Island',\n",
       "       'Quebec', 'Saskatchewan', 'Yukon'], dtype=object)"
      ]
     },
     "metadata": {},
     "execution_count": 36
    }
   ],
   "source": [
    "df['province'].unique()"
   ]
  },
  {
   "cell_type": "code",
   "execution_count": 141,
   "metadata": {},
   "outputs": [],
   "source": [
    "for prov in data['features']:\n",
    "    prov_df = comb.loc[df['province'] == prov['properties']['name']].copy()\n",
    "\n",
    "    years = prov_df['date'].unique()\n",
    "\n",
    "    for year in years:\n",
    "        prov['properties'][f'english-{year}'] = float(prov_df.loc[prov_df['date'] == year, 'english-pct'].values[0])\n",
    "        prov['properties'][f'french-{year}'] = float(prov_df.loc[prov_df['date'] == year, 'french-pct'].values[0])\n",
    "        prov['properties'][f'neither-{year}'] = float(prov_df.loc[prov_df['date'] == year, 'neither-pct'].values[0])"
   ]
  },
  {
   "cell_type": "code",
   "execution_count": 142,
   "metadata": {},
   "outputs": [
    {
     "output_type": "stream",
     "name": "stdout",
     "text": [
      "{'_2012_membership': 39859,\n '_end': None,\n 'altitudemode': 'relativeToGround',\n 'begin': None,\n 'cartodb_id': 6,\n 'description': None,\n 'draworder': None,\n 'english-1971': 0.9756134686346863,\n 'english-1981': 0.9432146294513956,\n 'english-1991': 0.9379808289682284,\n 'english-1996': 0.9231058088884557,\n 'english-2001': 0.9124971734025378,\n 'english-2006': 0.9206377392683955,\n 'english-2011': 0.9243651640020882,\n 'english-2016': 0.9089404162765394,\n 'extrude': -1,\n 'french-1971': 0.01788238007380074,\n 'french-1981': 0.012931988989355565,\n 'french-1991': 0.013540682677956307,\n 'french-1996': 0.013140431056311914,\n 'french-2001': 0.012815552463251768,\n 'french-2006': 0.012579534855932793,\n 'french-2011': 0.011986140919982331,\n 'french-2016': 0.011497537652253524,\n 'icon': None,\n 'name': 'British Columbia',\n 'neither-1971': 0.012327029520295203,\n 'neither-1981': 0.013343705679540368,\n 'neither-1991': 0.01821891743402192,\n 'neither-1996': 0.02481094216250442,\n 'neither-2001': 0.025084896561945083,\n 'neither-2006': 0.0286299402412824,\n 'neither-2011': 0.03174737743905976,\n 'neither-2016': 0.0315413288883947,\n 'nom': 'Colombie-Britannique',\n 'show': 'y',\n 'tessellate': -1,\n 'timestamp': None,\n 'visibility': -1}\n{'_2012_membership': 974,\n '_end': None,\n 'altitudemode': 'relativeToGround',\n 'begin': None,\n 'cartodb_id': 5,\n 'description': None,\n 'draworder': None,\n 'english-1971': 0.9975645472061657,\n 'english-1981': 0.9782166649227443,\n 'english-1991': 0.9707435523063787,\n 'english-1996': 0.9657269474292993,\n 'english-2001': 0.9620806435953618,\n 'english-2006': 0.9712250567733981,\n 'english-2011': 0.9684453321011368,\n 'english-2016': 0.9688918305597579,\n 'extrude': -1,\n 'french-1971': 0.007009633911368015,\n 'french-1981': 0.0037093230093125456,\n 'french-1991': 0.004555082727576609,\n 'french-1996': 0.003876319678398521,\n 'french-2001': 0.003893020927129121,\n 'french-2006': 0.0035800407363763354,\n 'french-2011': 0.0038092437648694164,\n 'french-2016': 0.004264372163388805,\n 'icon': None,\n 'name': 'Newfoundland and Labrador',\n 'neither-1971': 0.0012023121387283236,\n 'neither-1981': 0.000659202678664853,\n 'neither-1991': 0.001255678698666556,\n 'neither-1996': 0.0007717158169809413,\n 'neither-2001': 0.0010755779089623243,\n 'neither-2006': 0.0014827416673820245,\n 'neither-2011': 0.0010501674539740247,\n 'neither-2016': 0.0013710287443267776,\n 'nom': 'Terre-Neuve-et-Labrador',\n 'show': 'n',\n 'tessellate': -1,\n 'timestamp': None,\n 'visibility': -1}\n{'_2012_membership': 124,\n '_end': None,\n 'altitudemode': 'relativeToGround',\n 'begin': None,\n 'cartodb_id': 13,\n 'description': None,\n 'draworder': None,\n 'english-2001': 0.8808832217408429,\n 'english-2006': 0.9157855856687751,\n 'english-2011': 0.9171809629475534,\n 'english-2016': 0.8959264834745096,\n 'extrude': -1,\n 'french-2001': 0.021785151634501773,\n 'french-2006': 0.02193083706542315,\n 'french-2011': 0.023807872778124493,\n 'french-2016': 0.026175657761700406,\n 'icon': None,\n 'name': 'Northwest Territories',\n 'neither-2001': 0.009477156360771958,\n 'neither-2006': 0.007387229327300429,\n 'neither-2011': 0.00520074890784273,\n 'neither-2016': 0.004381333273417665,\n 'nom': 'Territories Nord-Ouest',\n 'show': 'n',\n 'tessellate': -1,\n 'timestamp': None,\n 'visibility': -1}\n{'_2012_membership': 24,\n '_end': None,\n 'altitudemode': 'relativeToGround',\n 'begin': None,\n 'cartodb_id': 12,\n 'description': None,\n 'draworder': None,\n 'english-2001': 0.8176847255198215,\n 'english-2006': 0.8689537887954999,\n 'english-2011': 0.8426466664690363,\n 'english-2016': 0.8985077065519307,\n 'extrude': -1,\n 'french-2001': 0.014389524426217713,\n 'french-2006': 0.012591163292670961,\n 'french-2011': 0.013340052767319836,\n 'french-2016': 0.015930504874462174,\n 'icon': None,\n 'name': 'Nunavut',\n 'neither-2001': 0.1250089934527664,\n 'neither-2006': 0.0748928933512117,\n 'neither-2011': 0.08419055524264074,\n 'neither-2016': 0.05514405533467676,\n 'nom': 'Nunavut',\n 'show': 'n',\n 'tessellate': -1,\n 'timestamp': None,\n 'visibility': -1}\n{'_2012_membership': 11243,\n '_end': None,\n 'altitudemode': 'relativeToGround',\n 'begin': None,\n 'cartodb_id': 3,\n 'description': None,\n 'draworder': None,\n 'english-1971': 882163,\n 'english-1981': 926419,\n 'english-1991': 950350,\n 'english-1996': 953775,\n 'english-2001': 943235,\n 'english-2006': 935495,\n 'english-2011': 998300,\n 'english-2016': 1060230,\n 'extrude': -1,\n 'french-1971': 32134,\n 'french-1981': 21797,\n 'french-1991': 19315,\n 'french-1996': 17310,\n 'french-2001': 16195,\n 'french-2006': 14475,\n 'french-2011': 13710,\n 'french-2016': 13555,\n 'icon': None,\n 'name': 'Saskatchewan',\n 'neither-1971': 11112,\n 'neither-1981': 6854,\n 'neither-1991': 5395,\n 'neither-1996': 4720,\n 'neither-2001': 3000,\n 'neither-2006': 3130,\n 'neither-2011': 5145,\n 'neither-2016': 7685,\n 'nom': 'Saskatchewan',\n 'show': 'y',\n 'tessellate': -1,\n 'timestamp': None,\n 'visibility': -1}\n{'_2012_membership': 13987,\n '_end': None,\n 'altitudemode': 'relativeToGround',\n 'begin': None,\n 'cartodb_id': 1,\n 'description': None,\n 'draworder': None,\n 'english-1971': 0.15925710486953631,\n 'english-1981': 0.12627831062331124,\n 'english-1991': 0.11841964999492616,\n 'english-1996': 0.11642618394260047,\n 'english-2001': 0.11238438736866316,\n 'english-2006': 0.116440683627515,\n 'english-2011': 0.11743608313350323,\n 'english-2016': 0.11766771333417302,\n 'extrude': -1,\n 'french-1971': 0.8206471663619744,\n 'french-1981': 0.8223930434761281,\n 'french-1991': 0.8215175084372995,\n 'french-1996': 0.8245146656579498,\n 'french-2001': 0.8216840354012448,\n 'french-2006': 0.8237417773042419,\n 'french-2011': 0.8235669185540438,\n 'french-2016': 0.8239266288030791,\n 'icon': None,\n 'name': 'Quebec',\n 'neither-1971': 0.010544124979225527,\n 'neither-1981': 0.00749732725579764,\n 'neither-1991': 0.008762153191158686,\n 'neither-1996': 0.0099330121366767,\n 'neither-2001': 0.0077692122216800755,\n 'neither-2006': 0.008936440609984563,\n 'neither-2011': 0.00923538238411685,\n 'neither-2016': 0.008881906223668551,\n 'nom': 'Québec',\n 'show': 'y',\n 'tessellate': -1,\n 'timestamp': None,\n 'visibility': -1}\n{'_2012_membership': 9800,\n '_end': None,\n 'altitudemode': 'relativeToGround',\n 'begin': None,\n 'cartodb_id': 4,\n 'description': None,\n 'draworder': None,\n 'english-1971': 0.9654758663366336,\n 'english-1981': 0.9477707300790655,\n 'english-1991': 0.9458259342302815,\n 'english-1996': 0.9372470231123498,\n 'english-2001': 0.940840657066964,\n 'english-2006': 0.9342631567552626,\n 'english-2011': 0.9280358318612921,\n 'english-2016': 0.9306566454747556,\n 'extrude': -1,\n 'french-1971': 0.02927042079207921,\n 'french-1981': 0.023668978317770466,\n 'french-1991': 0.019652561828906696,\n 'french-1996': 0.017937411906388426,\n 'french-2001': 0.018377174456173352,\n 'french-2006': 0.01737190831191317,\n 'french-2011': 0.01734087572421229,\n 'french-2016': 0.017155375638815012,\n 'icon': None,\n 'name': 'Alberta',\n 'neither-1971': 0.011133044554455445,\n 'neither-1981': 0.00930571796967608,\n 'neither-1991': 0.011517920889936714,\n 'neither-1996': 0.011952221620555642,\n 'neither-2001': 0.010026615445941647,\n 'neither-2006': 0.01162130989675318,\n 'neither-2011': 0.012867486463968908,\n 'neither-2016': 0.013868670905048886,\n 'nom': 'Alberta',\n 'show': 'y',\n 'tessellate': -1,\n 'timestamp': None,\n 'visibility': -1}\n{'_2012_membership': 11991,\n '_end': None,\n 'altitudemode': 'relativeToGround',\n 'begin': None,\n 'cartodb_id': 10,\n 'description': None,\n 'draworder': None,\n 'english-1971': 0.9191189024390244,\n 'english-1981': 0.9171628135493555,\n 'english-1991': 0.9198189109344095,\n 'english-1996': 0.9212076921988024,\n 'english-2001': 0.9145409140620102,\n 'english-2006': 0.9146679435893958,\n 'english-2011': 0.9262336091889584,\n 'english-2016': 0.9235964389686644,\n 'extrude': -1,\n 'french-1971': 0.062097560975609756,\n 'french-1981': 0.04589987311019297,\n 'french-1991': 0.0421851100528297,\n 'french-1996': 0.040317158104837,\n 'french-2001': 0.03692784050934472,\n 'french-2006': 0.03570581056342803,\n 'french-2011': 0.032590131126488335,\n 'french-2016': 0.030098791288432482,\n 'icon': None,\n 'name': 'Manitoba',\n 'neither-1971': 0.02091869918699187,\n 'neither-1981': 0.014192895718242731,\n 'neither-1991': 0.01172034612311019,\n 'neither-1996': 0.010165550726894384,\n 'neither-2001': 0.007880145168817961,\n 'neither-2006': 0.008614990846837074,\n 'neither-2011': 0.011139069696189411,\n 'neither-2016': 0.012164656241938852,\n 'nom': 'Manitoba',\n 'show': 'y',\n 'tessellate': -1,\n 'timestamp': None,\n 'visibility': -1}\n{'_2012_membership': 3904,\n '_end': None,\n 'altitudemode': 'relativeToGround',\n 'begin': None,\n 'cartodb_id': 2,\n 'description': None,\n 'draworder': None,\n 'english-1971': 0.9528267515923566,\n 'english-1981': 0.9427028850625474,\n 'english-1991': 0.9352404490836905,\n 'english-1996': 0.9289489364173538,\n 'english-2001': 0.9238662914330831,\n 'english-2006': 0.9261637940683305,\n 'english-2011': 0.9300071605011503,\n 'english-2016': 0.9369067530281563,\n 'extrude': -1,\n 'french-1971': 0.050503184713375796,\n 'french-1981': 0.03825118048714203,\n 'french-1991': 0.0388587980613327,\n 'french-1996': 0.03666450845467002,\n 'french-2001': 0.035539705376645886,\n 'french-2006': 0.033588560915109734,\n 'french-2011': 0.031300711389433813,\n 'french-2016': 0.0303508080409933,\n 'icon': None,\n 'name': 'Nova Scotia',\n 'neither-1971': 0.001315923566878981,\n 'neither-1981': 0.0008879278131087665,\n 'neither-1991': 0.0010626736430643564,\n 'neither-1996': 0.00119920583534635,\n 'neither-2001': 0.0008998749816543345,\n 'neither-2006': 0.001385754655336168,\n 'neither-2011': 0.0016047572844329011,\n 'neither-2016': 0.002753837795225261,\n 'nom': 'Nouvelle-Écosse',\n 'show': 'n',\n 'tessellate': -1,\n 'timestamp': None,\n 'visibility': -1}\n{'_2012_membership': 36965,\n '_end': None,\n 'altitudemode': 'relativeToGround',\n 'begin': None,\n 'cartodb_id': 11,\n 'description': None,\n 'draworder': None,\n 'english-1971': 0.9161225182863114,\n 'english-1981': 0.9005378314870686,\n 'english-1991': 0.8938459412419058,\n 'english-1996': 0.8956767215229805,\n 'english-2001': 0.8914147152403448,\n 'english-2006': 0.8889698067079239,\n 'english-2011': 0.8974084470760267,\n 'english-2016': 0.8998587082605463,\n 'extrude': -1,\n 'french-1971': 0.06386076280041797,\n 'french-1981': 0.04992388768328155,\n 'french-1991': 0.04668665230788188,\n 'french-1996': 0.04365851547240893,\n 'french-2001': 0.041617591655414635,\n 'french-2006': 0.03949543401323103,\n 'french-2011': 0.037903497706204804,\n 'french-2016': 0.03660110200441728,\n 'icon': None,\n 'name': 'Ontario',\n 'neither-1971': 0.022216954022988504,\n 'neither-1981': 0.01621544089788248,\n 'neither-1991': 0.017897942279848356,\n 'neither-1996': 0.02171435495440358,\n 'neither-2001': 0.019229617535589914,\n 'neither-2006': 0.02072884666579967,\n 'neither-2011': 0.02219772476730575,\n 'neither-2016': 0.023339891033800898,\n 'nom': 'Ontario',\n 'show': 'y',\n 'tessellate': -1,\n 'timestamp': None,\n 'visibility': -1}\n{'_2012_membership': 946,\n '_end': None,\n 'altitudemode': 'relativeToGround',\n 'begin': None,\n 'cartodb_id': 7,\n 'description': None,\n 'draworder': None,\n 'english-1971': 0.6646238095238095,\n 'english-1981': 0.6465989275827477,\n 'english-1991': 0.6358229840825608,\n 'english-1996': 0.648233523731973,\n 'english-2001': 0.640356668867503,\n 'english-2006': 0.6464270271210991,\n 'english-2011': 0.6651351229607019,\n 'english-2016': 0.6552433669042047,\n 'extrude': -1,\n 'french-1971': 0.3412904761904762,\n 'french-1981': 0.32579320991595756,\n 'french-1991': 0.32529836789063654,\n 'french-1996': 0.3194066906960128,\n 'french-2001': 0.31694043736619915,\n 'french-2006': 0.31346764250324305,\n 'french-2011': 0.3105615571930884,\n 'french-2016': 0.30562202529648425,\n 'icon': None,\n 'name': 'New Brunswick',\n 'neither-1971': 0.0009523809523809524,\n 'neither-1981': 0.0005902693529597894,\n 'neither-1991': 0.0006122092006297008,\n 'neither-1996': 0.0005388640745308888,\n 'neither-2001': 0.0004601748664492507,\n 'neither-2006': 0.0009103286152429171,\n 'neither-2011': 0.001152632373866247,\n 'neither-2016': 0.0029648426201057086,\n 'nom': 'Nouveau-Brunswick',\n 'show': 'y',\n 'tessellate': -1,\n 'timestamp': None,\n 'visibility': -1}\n{'_2012_membership': 262,\n '_end': None,\n 'altitudemode': 'relativeToGround',\n 'begin': None,\n 'cartodb_id': 8,\n 'description': None,\n 'draworder': None,\n 'english-1971': 0.939045045045045,\n 'english-1981': 0.9396910351538742,\n 'english-1991': 0.9405489090031193,\n 'english-1996': 0.9430576010775686,\n 'english-2001': 0.9387580017158319,\n 'english-2006': 0.9353042267615131,\n 'english-2011': 0.9289260243322612,\n 'english-2016': 0.9298425641520089,\n 'extrude': -1,\n 'french-1971': 0.06638738738738739,\n 'french-1981': 0.0417224181972996,\n 'french-1991': 0.04012201384151996,\n 'french-1996': 0.039002656917235916,\n 'french-2001': 0.038459564296032325,\n 'french-2006': 0.03687267506362984,\n 'french-2011': 0.03296741714445532,\n 'french-2016': 0.03133565653365656,\n 'icon': None,\n 'name': 'Prince Edward Island',\n 'neither-1971': 0.0002792792792792793,\n 'neither-1981': 0.00030004460122450634,\n 'neither-1991': 0.0004215302313817761,\n 'neither-1996': 0.00022202650996528986,\n 'neither-2001': 0.00025664151579811846,\n 'neither-2006': 0.00032630685897017554,\n 'neither-2011': 0.004719619633617676,\n 'neither-2016': 0.008402088125507913,\n 'nom': 'Île-du-Prince-Édouard',\n 'show': 'y',\n 'tessellate': -1,\n 'timestamp': None,\n 'visibility': -1}\n{'_2012_membership': 747,\n '_end': None,\n 'altitudemode': 'relativeToGround',\n 'begin': None,\n 'cartodb_id': 9,\n 'description': None,\n 'draworder': None,\n 'english-1971': 17873,\n 'english-1981': 22512,\n 'english-1991': 26765,\n 'english-1996': 29455,\n 'english-2001': 27545,\n 'english-2006': 28830,\n 'english-2011': 32015,\n 'english-2016': 33725,\n 'extrude': -1,\n 'french-1971': 459,\n 'french-1981': 443,\n 'french-1991': 835,\n 'french-1996': 1080,\n 'french-2001': 850,\n 'french-2006': 1120,\n 'french-2011': 1420,\n 'french-2016': 1575,\n 'icon': None,\n 'name': 'Yukon',\n 'neither-1971': 38,\n 'neither-1981': 40,\n 'neither-1991': 25,\n 'neither-1996': 45,\n 'neither-2001': 60,\n 'neither-2006': 120,\n 'neither-2011': 95,\n 'neither-2016': 135,\n 'nom': 'Territoire du Yukon',\n 'show': 'n',\n 'tessellate': -1,\n 'timestamp': None,\n 'visibility': -1}\n"
     ]
    },
    {
     "output_type": "execute_result",
     "data": {
      "text/plain": [
       "[None, None, None, None, None, None, None, None, None, None, None, None, None]"
      ]
     },
     "metadata": {},
     "execution_count": 142
    }
   ],
   "source": [
    "[pprint(prov['properties']) for prov in data['features']]"
   ]
  },
  {
   "cell_type": "code",
   "execution_count": 41,
   "metadata": {},
   "outputs": [],
   "source": [
    "#Let's save the data\n",
    "with open('provinces_language.json', 'w') as f: \n",
    "    f.write(json.dumps(data))"
   ]
  }
 ]
}